{
 "cells": [
  {
   "cell_type": "markdown",
   "id": "8ad4476b-b33c-40a6-8e50-67950cd9fddf",
   "metadata": {},
   "source": [
    "# Loading Data"
   ]
  },
  {
   "cell_type": "code",
   "execution_count": 1,
   "id": "ba52dd14-3873-4054-b1fc-65dab06a525b",
   "metadata": {},
   "outputs": [],
   "source": [
    "import pandas as pd\n",
    "\n",
    "file_path = \"C:/Users/hp/Desktop/SPAM text message 20170820 - Data.csv\"\n",
    "data = pd.read_csv(file_path)"
   ]
  },
  {
   "cell_type": "code",
   "execution_count": 2,
   "id": "88bcc391-53f5-42f5-a27c-f318183eddb1",
   "metadata": {},
   "outputs": [
    {
     "name": "stdout",
     "output_type": "stream",
     "text": [
      "<class 'pandas.core.frame.DataFrame'>\n",
      "RangeIndex: 5572 entries, 0 to 5571\n",
      "Data columns (total 2 columns):\n",
      " #   Column    Non-Null Count  Dtype \n",
      "---  ------    --------------  ----- \n",
      " 0   Category  5572 non-null   object\n",
      " 1   Message   5572 non-null   object\n",
      "dtypes: object(2)\n",
      "memory usage: 87.2+ KB\n"
     ]
    }
   ],
   "source": [
    "data.info()"
   ]
  },
  {
   "cell_type": "code",
   "execution_count": 3,
   "id": "1645b570-bc5f-44b0-b5f1-454a092dd2b2",
   "metadata": {},
   "outputs": [
    {
     "data": {
      "text/html": [
       "<div>\n",
       "<style scoped>\n",
       "    .dataframe tbody tr th:only-of-type {\n",
       "        vertical-align: middle;\n",
       "    }\n",
       "\n",
       "    .dataframe tbody tr th {\n",
       "        vertical-align: top;\n",
       "    }\n",
       "\n",
       "    .dataframe thead th {\n",
       "        text-align: right;\n",
       "    }\n",
       "</style>\n",
       "<table border=\"1\" class=\"dataframe\">\n",
       "  <thead>\n",
       "    <tr style=\"text-align: right;\">\n",
       "      <th></th>\n",
       "      <th>Category</th>\n",
       "      <th>Message</th>\n",
       "    </tr>\n",
       "  </thead>\n",
       "  <tbody>\n",
       "    <tr>\n",
       "      <th>count</th>\n",
       "      <td>5572</td>\n",
       "      <td>5572</td>\n",
       "    </tr>\n",
       "    <tr>\n",
       "      <th>unique</th>\n",
       "      <td>2</td>\n",
       "      <td>5157</td>\n",
       "    </tr>\n",
       "    <tr>\n",
       "      <th>top</th>\n",
       "      <td>ham</td>\n",
       "      <td>Sorry, I'll call later</td>\n",
       "    </tr>\n",
       "    <tr>\n",
       "      <th>freq</th>\n",
       "      <td>4825</td>\n",
       "      <td>30</td>\n",
       "    </tr>\n",
       "  </tbody>\n",
       "</table>\n",
       "</div>"
      ],
      "text/plain": [
       "       Category                 Message\n",
       "count      5572                    5572\n",
       "unique        2                    5157\n",
       "top         ham  Sorry, I'll call later\n",
       "freq       4825                      30"
      ]
     },
     "execution_count": 3,
     "metadata": {},
     "output_type": "execute_result"
    }
   ],
   "source": [
    "data.describe()"
   ]
  },
  {
   "cell_type": "code",
   "execution_count": 4,
   "id": "fa929b64-7b10-4488-85a2-b532fb690f0d",
   "metadata": {},
   "outputs": [
    {
     "data": {
      "text/html": [
       "<div>\n",
       "<style scoped>\n",
       "    .dataframe tbody tr th:only-of-type {\n",
       "        vertical-align: middle;\n",
       "    }\n",
       "\n",
       "    .dataframe tbody tr th {\n",
       "        vertical-align: top;\n",
       "    }\n",
       "\n",
       "    .dataframe thead th {\n",
       "        text-align: right;\n",
       "    }\n",
       "</style>\n",
       "<table border=\"1\" class=\"dataframe\">\n",
       "  <thead>\n",
       "    <tr style=\"text-align: right;\">\n",
       "      <th></th>\n",
       "      <th>Category</th>\n",
       "      <th>Message</th>\n",
       "    </tr>\n",
       "  </thead>\n",
       "  <tbody>\n",
       "    <tr>\n",
       "      <th>0</th>\n",
       "      <td>ham</td>\n",
       "      <td>Go until jurong point, crazy.. Available only ...</td>\n",
       "    </tr>\n",
       "    <tr>\n",
       "      <th>1</th>\n",
       "      <td>ham</td>\n",
       "      <td>Ok lar... Joking wif u oni...</td>\n",
       "    </tr>\n",
       "    <tr>\n",
       "      <th>2</th>\n",
       "      <td>spam</td>\n",
       "      <td>Free entry in 2 a wkly comp to win FA Cup fina...</td>\n",
       "    </tr>\n",
       "    <tr>\n",
       "      <th>3</th>\n",
       "      <td>ham</td>\n",
       "      <td>U dun say so early hor... U c already then say...</td>\n",
       "    </tr>\n",
       "    <tr>\n",
       "      <th>4</th>\n",
       "      <td>ham</td>\n",
       "      <td>Nah I don't think he goes to usf, he lives aro...</td>\n",
       "    </tr>\n",
       "    <tr>\n",
       "      <th>5</th>\n",
       "      <td>spam</td>\n",
       "      <td>FreeMsg Hey there darling it's been 3 week's n...</td>\n",
       "    </tr>\n",
       "    <tr>\n",
       "      <th>6</th>\n",
       "      <td>ham</td>\n",
       "      <td>Even my brother is not like to speak with me. ...</td>\n",
       "    </tr>\n",
       "    <tr>\n",
       "      <th>7</th>\n",
       "      <td>ham</td>\n",
       "      <td>As per your request 'Melle Melle (Oru Minnamin...</td>\n",
       "    </tr>\n",
       "    <tr>\n",
       "      <th>8</th>\n",
       "      <td>spam</td>\n",
       "      <td>WINNER!! As a valued network customer you have...</td>\n",
       "    </tr>\n",
       "    <tr>\n",
       "      <th>9</th>\n",
       "      <td>spam</td>\n",
       "      <td>Had your mobile 11 months or more? U R entitle...</td>\n",
       "    </tr>\n",
       "    <tr>\n",
       "      <th>10</th>\n",
       "      <td>ham</td>\n",
       "      <td>I'm gonna be home soon and i don't want to tal...</td>\n",
       "    </tr>\n",
       "    <tr>\n",
       "      <th>11</th>\n",
       "      <td>spam</td>\n",
       "      <td>SIX chances to win CASH! From 100 to 20,000 po...</td>\n",
       "    </tr>\n",
       "    <tr>\n",
       "      <th>12</th>\n",
       "      <td>spam</td>\n",
       "      <td>URGENT! You have won a 1 week FREE membership ...</td>\n",
       "    </tr>\n",
       "    <tr>\n",
       "      <th>13</th>\n",
       "      <td>ham</td>\n",
       "      <td>I've been searching for the right words to tha...</td>\n",
       "    </tr>\n",
       "    <tr>\n",
       "      <th>14</th>\n",
       "      <td>ham</td>\n",
       "      <td>I HAVE A DATE ON SUNDAY WITH WILL!!</td>\n",
       "    </tr>\n",
       "    <tr>\n",
       "      <th>15</th>\n",
       "      <td>spam</td>\n",
       "      <td>XXXMobileMovieClub: To use your credit, click ...</td>\n",
       "    </tr>\n",
       "    <tr>\n",
       "      <th>16</th>\n",
       "      <td>ham</td>\n",
       "      <td>Oh k...i'm watching here:)</td>\n",
       "    </tr>\n",
       "    <tr>\n",
       "      <th>17</th>\n",
       "      <td>ham</td>\n",
       "      <td>Eh u remember how 2 spell his name... Yes i di...</td>\n",
       "    </tr>\n",
       "    <tr>\n",
       "      <th>18</th>\n",
       "      <td>ham</td>\n",
       "      <td>Fine if thats the way u feel. Thats the way ...</td>\n",
       "    </tr>\n",
       "    <tr>\n",
       "      <th>19</th>\n",
       "      <td>spam</td>\n",
       "      <td>England v Macedonia - dont miss the goals/team...</td>\n",
       "    </tr>\n",
       "  </tbody>\n",
       "</table>\n",
       "</div>"
      ],
      "text/plain": [
       "   Category                                            Message\n",
       "0       ham  Go until jurong point, crazy.. Available only ...\n",
       "1       ham                      Ok lar... Joking wif u oni...\n",
       "2      spam  Free entry in 2 a wkly comp to win FA Cup fina...\n",
       "3       ham  U dun say so early hor... U c already then say...\n",
       "4       ham  Nah I don't think he goes to usf, he lives aro...\n",
       "5      spam  FreeMsg Hey there darling it's been 3 week's n...\n",
       "6       ham  Even my brother is not like to speak with me. ...\n",
       "7       ham  As per your request 'Melle Melle (Oru Minnamin...\n",
       "8      spam  WINNER!! As a valued network customer you have...\n",
       "9      spam  Had your mobile 11 months or more? U R entitle...\n",
       "10      ham  I'm gonna be home soon and i don't want to tal...\n",
       "11     spam  SIX chances to win CASH! From 100 to 20,000 po...\n",
       "12     spam  URGENT! You have won a 1 week FREE membership ...\n",
       "13      ham  I've been searching for the right words to tha...\n",
       "14      ham                I HAVE A DATE ON SUNDAY WITH WILL!!\n",
       "15     spam  XXXMobileMovieClub: To use your credit, click ...\n",
       "16      ham                         Oh k...i'm watching here:)\n",
       "17      ham  Eh u remember how 2 spell his name... Yes i di...\n",
       "18      ham  Fine if thats the way u feel. Thats the way ...\n",
       "19     spam  England v Macedonia - dont miss the goals/team..."
      ]
     },
     "execution_count": 4,
     "metadata": {},
     "output_type": "execute_result"
    }
   ],
   "source": [
    "data.head(20)"
   ]
  },
  {
   "cell_type": "markdown",
   "id": "55bffae5-e9e6-4c5f-a8f6-9a52b82dc5f3",
   "metadata": {},
   "source": [
    "# Data Normalizing"
   ]
  },
  {
   "cell_type": "code",
   "execution_count": 5,
   "id": "83c2a37c-7460-494c-b9d2-9eea47faac00",
   "metadata": {},
   "outputs": [
    {
     "name": "stderr",
     "output_type": "stream",
     "text": [
      "[nltk_data] Downloading package punkt to\n",
      "[nltk_data]     C:\\Users\\hp\\AppData\\Roaming\\nltk_data...\n",
      "[nltk_data]   Package punkt is already up-to-date!\n",
      "[nltk_data] Downloading package stopwords to\n",
      "[nltk_data]     C:\\Users\\hp\\AppData\\Roaming\\nltk_data...\n",
      "[nltk_data]   Package stopwords is already up-to-date!\n"
     ]
    },
    {
     "data": {
      "text/plain": [
       "True"
      ]
     },
     "execution_count": 5,
     "metadata": {},
     "output_type": "execute_result"
    }
   ],
   "source": [
    "import pandas as pd\n",
    "import re\n",
    "import nltk\n",
    "from nltk.corpus import stopwords\n",
    "from nltk.stem import PorterStemmer\n",
    "from nltk.tokenize import word_tokenize\n",
    "from nltk.stem import WordNetLemmatizer\n",
    "\n",
    "nltk.download('punkt')\n",
    "nltk.download('stopwords')"
   ]
  },
  {
   "cell_type": "code",
   "execution_count": 6,
   "id": "11ce3b03-a686-4f6e-8eb8-9cfba4b1ab23",
   "metadata": {},
   "outputs": [],
   "source": [
    "stemmer = PorterStemmer()\n",
    "lemmatizer = WordNetLemmatizer()\n",
    "stop_words = set(stopwords.words('english'))\n",
    "\n",
    "def preprocess_text(text):\n",
    "    text = text.lower()\n",
    "    text = re.sub(r\"http\\S+|www\\S+|https\\S+\", \"\", text, flags=re.MULTILINE)\n",
    "    text = re.sub(r\"[^\\w\\s]\", \"\", text)\n",
    "    tokens = word_tokenize(text)\n",
    "    tokens = [lemmatizer.lemmatize(stemmer.stem(word)) for word in tokens if word not in stop_words]\n",
    "    return \" \".join(tokens)\n",
    "\n",
    "data['Message'] = data['Message'].apply(preprocess_text)"
   ]
  },
  {
   "cell_type": "code",
   "execution_count": 7,
   "id": "a8006fd6-6033-40e4-8fe9-a777a0259234",
   "metadata": {},
   "outputs": [
    {
     "data": {
      "text/html": [
       "<div>\n",
       "<style scoped>\n",
       "    .dataframe tbody tr th:only-of-type {\n",
       "        vertical-align: middle;\n",
       "    }\n",
       "\n",
       "    .dataframe tbody tr th {\n",
       "        vertical-align: top;\n",
       "    }\n",
       "\n",
       "    .dataframe thead th {\n",
       "        text-align: right;\n",
       "    }\n",
       "</style>\n",
       "<table border=\"1\" class=\"dataframe\">\n",
       "  <thead>\n",
       "    <tr style=\"text-align: right;\">\n",
       "      <th></th>\n",
       "      <th>Category</th>\n",
       "      <th>Message</th>\n",
       "    </tr>\n",
       "  </thead>\n",
       "  <tbody>\n",
       "    <tr>\n",
       "      <th>0</th>\n",
       "      <td>ham</td>\n",
       "      <td>go jurong point crazi avail bugi n great world...</td>\n",
       "    </tr>\n",
       "    <tr>\n",
       "      <th>1</th>\n",
       "      <td>ham</td>\n",
       "      <td>ok lar joke wif u oni</td>\n",
       "    </tr>\n",
       "    <tr>\n",
       "      <th>2</th>\n",
       "      <td>spam</td>\n",
       "      <td>free entri 2 wkli comp win fa cup final tkt 21...</td>\n",
       "    </tr>\n",
       "    <tr>\n",
       "      <th>3</th>\n",
       "      <td>ham</td>\n",
       "      <td>u dun say earli hor u c alreadi say</td>\n",
       "    </tr>\n",
       "    <tr>\n",
       "      <th>4</th>\n",
       "      <td>ham</td>\n",
       "      <td>nah dont think goe usf live around though</td>\n",
       "    </tr>\n",
       "    <tr>\n",
       "      <th>5</th>\n",
       "      <td>spam</td>\n",
       "      <td>freemsg hey darl 3 week word back id like fun ...</td>\n",
       "    </tr>\n",
       "    <tr>\n",
       "      <th>6</th>\n",
       "      <td>ham</td>\n",
       "      <td>even brother like speak treat like aid patent</td>\n",
       "    </tr>\n",
       "    <tr>\n",
       "      <th>7</th>\n",
       "      <td>ham</td>\n",
       "      <td>per request mell mell oru minnaminungint nurun...</td>\n",
       "    </tr>\n",
       "    <tr>\n",
       "      <th>8</th>\n",
       "      <td>spam</td>\n",
       "      <td>winner valu network custom select receivea 900...</td>\n",
       "    </tr>\n",
       "    <tr>\n",
       "      <th>9</th>\n",
       "      <td>spam</td>\n",
       "      <td>mobil 11 month u r entitl updat latest colour ...</td>\n",
       "    </tr>\n",
       "    <tr>\n",
       "      <th>10</th>\n",
       "      <td>ham</td>\n",
       "      <td>im gon na home soon dont want talk stuff anymo...</td>\n",
       "    </tr>\n",
       "    <tr>\n",
       "      <th>11</th>\n",
       "      <td>spam</td>\n",
       "      <td>six chanc win cash 100 20000 pound txt csh11 s...</td>\n",
       "    </tr>\n",
       "    <tr>\n",
       "      <th>12</th>\n",
       "      <td>spam</td>\n",
       "      <td>urgent 1 week free membership 100000 prize jac...</td>\n",
       "    </tr>\n",
       "    <tr>\n",
       "      <th>13</th>\n",
       "      <td>ham</td>\n",
       "      <td>ive search right word thank breather promis wo...</td>\n",
       "    </tr>\n",
       "    <tr>\n",
       "      <th>14</th>\n",
       "      <td>ham</td>\n",
       "      <td>date sunday</td>\n",
       "    </tr>\n",
       "    <tr>\n",
       "      <th>15</th>\n",
       "      <td>spam</td>\n",
       "      <td>xxxmobilemovieclub use credit click wap link n...</td>\n",
       "    </tr>\n",
       "    <tr>\n",
       "      <th>16</th>\n",
       "      <td>ham</td>\n",
       "      <td>oh kim watch</td>\n",
       "    </tr>\n",
       "    <tr>\n",
       "      <th>17</th>\n",
       "      <td>ham</td>\n",
       "      <td>eh u rememb 2 spell name ye v naughti make v wet</td>\n",
       "    </tr>\n",
       "    <tr>\n",
       "      <th>18</th>\n",
       "      <td>ham</td>\n",
       "      <td>fine that way u feel that way gota b</td>\n",
       "    </tr>\n",
       "    <tr>\n",
       "      <th>19</th>\n",
       "      <td>spam</td>\n",
       "      <td>england v macedonia dont miss goalsteam news t...</td>\n",
       "    </tr>\n",
       "  </tbody>\n",
       "</table>\n",
       "</div>"
      ],
      "text/plain": [
       "   Category                                            Message\n",
       "0       ham  go jurong point crazi avail bugi n great world...\n",
       "1       ham                              ok lar joke wif u oni\n",
       "2      spam  free entri 2 wkli comp win fa cup final tkt 21...\n",
       "3       ham                u dun say earli hor u c alreadi say\n",
       "4       ham          nah dont think goe usf live around though\n",
       "5      spam  freemsg hey darl 3 week word back id like fun ...\n",
       "6       ham      even brother like speak treat like aid patent\n",
       "7       ham  per request mell mell oru minnaminungint nurun...\n",
       "8      spam  winner valu network custom select receivea 900...\n",
       "9      spam  mobil 11 month u r entitl updat latest colour ...\n",
       "10      ham  im gon na home soon dont want talk stuff anymo...\n",
       "11     spam  six chanc win cash 100 20000 pound txt csh11 s...\n",
       "12     spam  urgent 1 week free membership 100000 prize jac...\n",
       "13      ham  ive search right word thank breather promis wo...\n",
       "14      ham                                        date sunday\n",
       "15     spam  xxxmobilemovieclub use credit click wap link n...\n",
       "16      ham                                       oh kim watch\n",
       "17      ham   eh u rememb 2 spell name ye v naughti make v wet\n",
       "18      ham               fine that way u feel that way gota b\n",
       "19     spam  england v macedonia dont miss goalsteam news t..."
      ]
     },
     "execution_count": 7,
     "metadata": {},
     "output_type": "execute_result"
    }
   ],
   "source": [
    "data.head(20)"
   ]
  },
  {
   "cell_type": "markdown",
   "id": "7f9b89bd-c8bc-497c-a2b0-b90defaf1260",
   "metadata": {},
   "source": [
    "# Label Encoder"
   ]
  },
  {
   "cell_type": "code",
   "execution_count": 8,
   "id": "ab3c51ae-f786-41e5-aa97-a8140ca6849a",
   "metadata": {},
   "outputs": [],
   "source": [
    "from sklearn.preprocessing import LabelEncoder\n",
    "\n",
    "le = LabelEncoder()\n",
    "data['Encoded_Label'] = le.fit_transform(data['Category'])"
   ]
  },
  {
   "cell_type": "markdown",
   "id": "f87df684-8834-47e1-baab-c46c601fe56d",
   "metadata": {},
   "source": [
    "# Data Split"
   ]
  },
  {
   "cell_type": "code",
   "execution_count": 9,
   "id": "3b442d03-734d-4af0-8c77-aed1fb29bb61",
   "metadata": {},
   "outputs": [],
   "source": [
    "from sklearn.model_selection import train_test_split\n",
    "\n",
    "X = data['Message']\n",
    "y = data['Encoded_Label']\n",
    "\n",
    "X_train, X_test, y_train, y_test = train_test_split(X, y, test_size=0.2, random_state=42)"
   ]
  },
  {
   "cell_type": "code",
   "execution_count": 10,
   "id": "88a7a79e-8a98-4f26-b919-c131fbe4c8e3",
   "metadata": {},
   "outputs": [],
   "source": [
    "from sklearn.feature_extraction.text import TfidfVectorizer\n",
    "\n",
    "vectorizer = TfidfVectorizer(ngram_range=(1, 2))\n",
    "X_train_vect = vectorizer.fit_transform(X_train)\n",
    "X_test_vect = vectorizer.transform(X_test)"
   ]
  },
  {
   "cell_type": "markdown",
   "id": "20907f63-6139-4952-84a9-e7ef493c5833",
   "metadata": {},
   "source": [
    "# Models"
   ]
  },
  {
   "cell_type": "markdown",
   "id": "4dd382ad-1405-4c11-af67-c5941f6ce2fc",
   "metadata": {},
   "source": [
    "# Logistic Regression"
   ]
  },
  {
   "cell_type": "code",
   "execution_count": 11,
   "id": "fda5f93e-ad97-47aa-b1ff-52b5c8686cdc",
   "metadata": {},
   "outputs": [],
   "source": [
    "from sklearn.linear_model import LogisticRegression\n",
    "from sklearn.metrics import accuracy_score, precision_score, recall_score, f1_score, roc_auc_score\n",
    "\n",
    "model = LogisticRegression(max_iter=1000)\n",
    "model.fit(X_train_vect, y_train)\n",
    "\n",
    "y_pred = model.predict(X_test_vect)\n",
    "\n",
    "accuracy_log_reg = accuracy_score(y_test, y_pred)\n",
    "precision_log_reg = precision_score(y_test, y_pred, average='binary')\n",
    "recall_log_reg = recall_score(y_test, y_pred, average='binary')\n",
    "f1_log_reg = f1_score(y_test, y_pred, average='binary')\n",
    "roc_auc_log_reg = roc_auc_score(y_test, model.predict_proba(X_test_vect)[:, 1])"
   ]
  },
  {
   "cell_type": "markdown",
   "id": "b582c63d-f368-4799-9e01-402f090a017b",
   "metadata": {},
   "source": [
    "# Result"
   ]
  },
  {
   "cell_type": "code",
   "execution_count": 13,
   "id": "0a4dfbcc-dae4-40d6-84da-83d5a990ce0c",
   "metadata": {},
   "outputs": [
    {
     "name": "stdout",
     "output_type": "stream",
     "text": [
      "Logistic Regression Performance:\n",
      "Accuracy: 0.9542600896860987\n",
      "Precision: 0.99\n",
      "Recall: 0.6644295302013423\n",
      "F1 Score: 0.7951807228915664\n",
      "ROC AUC: 0.9861672711103701\n"
     ]
    }
   ],
   "source": [
    "print(\"Logistic Regression Performance:\")\n",
    "print(\"Accuracy:\", accuracy_log_reg)\n",
    "print(\"Precision:\", precision_log_reg)\n",
    "print(\"Recall:\", recall_log_reg)\n",
    "print(\"F1 Score:\", f1_log_reg)\n",
    "print(\"ROC AUC:\", roc_auc_log_reg)"
   ]
  },
  {
   "cell_type": "markdown",
   "id": "7815aa74-da3e-43f8-8d27-64b0c0a57cee",
   "metadata": {},
   "source": [
    "# Naive Bayes"
   ]
  },
  {
   "cell_type": "code",
   "execution_count": 14,
   "id": "149ed9e0-4d43-4f48-afa7-988921803437",
   "metadata": {},
   "outputs": [],
   "source": [
    "from sklearn.naive_bayes import MultinomialNB\n",
    "\n",
    "nb_model = MultinomialNB()\n",
    "nb_model.fit(X_train_vect, y_train)\n",
    "\n",
    "y_pred_nb = nb_model.predict(X_test_vect)\n",
    "\n",
    "accuracy_nb = accuracy_score(y_test, y_pred_nb)\n",
    "precision_nb = precision_score(y_test, y_pred_nb, average='binary')\n",
    "recall_nb = recall_score(y_test, y_pred_nb, average='binary')\n",
    "f1_nb = f1_score(y_test, y_pred_nb, average='binary')\n",
    "roc_auc_nb = roc_auc_score(y_test, nb_model.predict_proba(X_test_vect)[:, 1])"
   ]
  },
  {
   "cell_type": "markdown",
   "id": "ddc8bef7-ede7-4763-a3c2-378a6936ad80",
   "metadata": {},
   "source": [
    "# Result"
   ]
  },
  {
   "cell_type": "code",
   "execution_count": 15,
   "id": "321b2b1a-3673-4ff0-ac7c-a382021b1d51",
   "metadata": {},
   "outputs": [
    {
     "name": "stdout",
     "output_type": "stream",
     "text": [
      "Naive Bayes Performance:\n",
      "Accuracy: 0.9552\n",
      "Precision: 1.0000\n",
      "Recall: 0.6644\n",
      "F1 Score: 0.7984\n",
      "ROC AUC: 0.9709\n"
     ]
    }
   ],
   "source": [
    "print(\"Naive Bayes Performance:\")\n",
    "print(f\"Accuracy: {accuracy_nb:.4f}\")\n",
    "print(f\"Precision: {precision_nb:.4f}\")\n",
    "print(f\"Recall: {recall_nb:.4f}\")\n",
    "print(f\"F1 Score: {f1_nb:.4f}\")\n",
    "print(f\"ROC AUC: {roc_auc_nb:.4f}\")"
   ]
  },
  {
   "cell_type": "markdown",
   "id": "6dd40cd6-d173-44d8-9aa6-42febf5d7957",
   "metadata": {},
   "source": [
    "# Support Vector Machine "
   ]
  },
  {
   "cell_type": "code",
   "execution_count": 16,
   "id": "d8fb93d7-45bc-4388-8eac-f8947b764538",
   "metadata": {},
   "outputs": [],
   "source": [
    "from sklearn.svm import SVC\n",
    "\n",
    "svm_model = SVC(probability=True)\n",
    "svm_model.fit(X_train_vect, y_train)\n",
    "\n",
    "y_pred_svm = svm_model.predict(X_test_vect)\n",
    "\n",
    "accuracy_svm = accuracy_score(y_test, y_pred_svm)\n",
    "precision_svm = precision_score(y_test, y_pred_svm, average='binary')\n",
    "recall_svm = recall_score(y_test, y_pred_svm, average='binary')\n",
    "f1_svm = f1_score(y_test, y_pred_svm, average='binary')\n",
    "roc_auc_svm = roc_auc_score(y_test, svm_model.predict_proba(X_test_vect)[:, 1])"
   ]
  },
  {
   "cell_type": "markdown",
   "id": "2889e30e-be4d-402c-b21f-accf98286afe",
   "metadata": {},
   "source": [
    "# Result"
   ]
  },
  {
   "cell_type": "code",
   "execution_count": 17,
   "id": "a02bd150-e84a-4fea-8e98-4bd77ccc71f9",
   "metadata": {},
   "outputs": [
    {
     "name": "stdout",
     "output_type": "stream",
     "text": [
      "SVM Performance:\n",
      "Accuracy: 0.9803\n",
      "Precision: 1.0000\n",
      "Recall: 0.8523\n",
      "F1 Score: 0.9203\n",
      "ROC AUC: 0.9869\n"
     ]
    }
   ],
   "source": [
    "print(\"SVM Performance:\")\n",
    "print(f\"Accuracy: {accuracy_svm:.4f}\")\n",
    "print(f\"Precision: {precision_svm:.4f}\")\n",
    "print(f\"Recall: {recall_svm:.4f}\")\n",
    "print(f\"F1 Score: {f1_svm:.4f}\")\n",
    "print(f\"ROC AUC: {roc_auc_svm:.4f}\")"
   ]
  },
  {
   "cell_type": "markdown",
   "id": "4e294af9-120a-403f-ae31-a9b800ed8973",
   "metadata": {},
   "source": [
    "# Random Forest"
   ]
  },
  {
   "cell_type": "code",
   "execution_count": 18,
   "id": "b4359f99-b997-41b3-b5f6-6fe8664c820b",
   "metadata": {},
   "outputs": [],
   "source": [
    "from sklearn.ensemble import RandomForestClassifier\n",
    "\n",
    "rf_model = RandomForestClassifier(n_estimators=100)\n",
    "rf_model.fit(X_train_vect, y_train)\n",
    "\n",
    "y_pred_rf = rf_model.predict(X_test_vect)\n",
    "\n",
    "accuracy_rf = accuracy_score(y_test, y_pred_rf)\n",
    "precision_rf = precision_score(y_test, y_pred_rf, average='binary')\n",
    "recall_rf = recall_score(y_test, y_pred_rf, average='binary')\n",
    "f1_rf = f1_score(y_test, y_pred_rf, average='binary')\n",
    "roc_auc_rf = roc_auc_score(y_test, rf_model.predict_proba(X_test_vect)[:, 1])"
   ]
  },
  {
   "cell_type": "markdown",
   "id": "cfedd209-0336-4d7d-b718-640fad2ee24e",
   "metadata": {},
   "source": [
    "# Result"
   ]
  },
  {
   "cell_type": "code",
   "execution_count": 19,
   "id": "c06fb618-ef5a-416a-92d8-f742c6c3c67d",
   "metadata": {},
   "outputs": [
    {
     "name": "stdout",
     "output_type": "stream",
     "text": [
      "Random Forest Performance:\n",
      "Accuracy: 0.9704\n",
      "Precision: 1.0000\n",
      "Recall: 0.7785\n",
      "F1 Score: 0.8755\n",
      "ROC AUC: 0.9878\n"
     ]
    }
   ],
   "source": [
    "print(\"Random Forest Performance:\")\n",
    "print(f\"Accuracy: {accuracy_rf:.4f}\")\n",
    "print(f\"Precision: {precision_rf:.4f}\")\n",
    "print(f\"Recall: {recall_rf:.4f}\")\n",
    "print(f\"F1 Score: {f1_rf:.4f}\")\n",
    "print(f\"ROC AUC: {roc_auc_rf:.4f}\")"
   ]
  },
  {
   "cell_type": "markdown",
   "id": "3317a470-4bb7-4a12-8de2-c6b36d384586",
   "metadata": {},
   "source": [
    "# Performance of different models"
   ]
  },
  {
   "cell_type": "code",
   "execution_count": 20,
   "id": "602cc032-d23f-4891-8ced-e36f698442ff",
   "metadata": {},
   "outputs": [
    {
     "name": "stdout",
     "output_type": "stream",
     "text": [
      "                 Model  Accuracy  Precision    Recall  F1 Score   ROC AUC\n",
      "0  Logistic Regression  0.954260       0.99  0.664430  0.795181  0.986167\n",
      "1          Naive Bayes  0.955157       1.00  0.664430  0.798387  0.970855\n",
      "2                  SVM  0.980269       1.00  0.852349  0.920290  0.986938\n",
      "3        Random Forest  0.970404       1.00  0.778523  0.875472  0.987821\n"
     ]
    }
   ],
   "source": [
    "results = pd.DataFrame({\n",
    "    'Model': ['Logistic Regression', 'Naive Bayes', 'SVM', 'Random Forest'],\n",
    "    'Accuracy': [accuracy_log_reg, accuracy_nb, accuracy_svm, accuracy_rf],\n",
    "    'Precision': [precision_log_reg, precision_nb, precision_svm, precision_rf],\n",
    "    'Recall': [recall_log_reg, recall_nb, recall_svm, recall_rf],\n",
    "    'F1 Score': [f1_log_reg, f1_nb, f1_svm, f1_rf],\n",
    "    'ROC AUC': [roc_auc_log_reg, roc_auc_nb, roc_auc_svm, roc_auc_rf]\n",
    "})\n",
    "\n",
    "print(results)"
   ]
  },
  {
   "cell_type": "code",
   "execution_count": 33,
   "id": "6803386f-1550-4f48-a416-45772a0e1700",
   "metadata": {},
   "outputs": [
    {
     "data": {
      "image/png": "[encoded data removed]",
      "text/plain": [
       "<Figure size 800x800 with 4 Axes>"
      ]
     },
     "metadata": {},
     "output_type": "display_data"
    },
    {
     "data": {
      "text/plain": [
       "<Figure size 200x200 with 0 Axes>"
      ]
     },
     "metadata": {},
     "output_type": "display_data"
    },
    {
     "data": {
      "image/png": "[encoded data removed]",
      "text/plain": [
       "<Figure size 640x480 with 1 Axes>"
      ]
     },
     "metadata": {},
     "output_type": "display_data"
    }
   ],
   "source": [
    "import matplotlib.pyplot as plt\n",
    "from sklearn.metrics import roc_curve, auc\n",
    "\n",
    "plt.figure(figsize=(8, 8))\n",
    "\n",
    "plt.subplot(2, 2, 1)\n",
    "results.plot(kind='bar', x='Model', y='Accuracy', ax=plt.gca(), legend=False, color='skyblue')\n",
    "plt.title('Accuracy')\n",
    "plt.ylabel('Accuracy')\n",
    "\n",
    "plt.subplot(2, 2, 2)\n",
    "results.plot(kind='bar', x='Model', y='Precision', ax=plt.gca(), legend=False, color='lightgreen')\n",
    "plt.title('Precision')\n",
    "plt.ylabel('Precision')\n",
    "\n",
    "plt.subplot(2, 2, 3)\n",
    "results.plot(kind='bar', x='Model', y='Recall', ax=plt.gca(), legend=False, color='salmon')\n",
    "plt.title('Recall')\n",
    "plt.ylabel('Recall')\n",
    "\n",
    "plt.subplot(2, 2, 4)\n",
    "results.plot(kind='bar', x='Model', y='F1 Score', ax=plt.gca(), legend=False, color='lightcoral')\n",
    "plt.title('F1 Score')\n",
    "plt.ylabel('F1 Score')\n",
    "\n",
    "plt.tight_layout()\n",
    "plt.show()\n",
    "\n",
    "plt.figure(figsize=(2, 2))\n",
    "results.plot(kind='bar', x='Model', y='ROC AUC', legend=False, color='orange')\n",
    "plt.title('ROC AUC')\n",
    "plt.ylabel('ROC AUC')\n",
    "plt.show()"
   ]
  },
  {
   "cell_type": "markdown",
   "id": "0b55bca5-8893-4ad9-acb1-68f65a1020b9",
   "metadata": {},
   "source": [
    "# Summary of Findings"
   ]
  },
  {
   "cell_type": "markdown",
   "id": "aadf421a-55c5-49e2-966a-7de29e103c55",
   "metadata": {},
   "source": [
    "## Introduction"
   ]
  },
  {
   "cell_type": "markdown",
   "id": "75f5598f-0f92-48eb-bc58-3d043f6a7629",
   "metadata": {},
   "source": [
    "In this analysis, four machine learning models were evaluated for spam detection in SMS messages: Logistic Regression, Naive Bayes, Support Vector Machine (SVM), and Random Forest. The goal was to determine the most effective model based on various performance metrics."
   ]
  },
  {
   "cell_type": "markdown",
   "id": "f0ddd948-b64b-4a6c-9c69-38af6ad3be8c",
   "metadata": {},
   "source": [
    "## Model Performance Metrics"
   ]
  },
  {
   "cell_type": "markdown",
   "id": "9afd2604-79db-4e95-8596-ee39c6a58597",
   "metadata": {},
   "source": [
    "Here's a summary of the performance metrics for each model:"
   ]
  },
  {
   "cell_type": "code",
   "execution_count": 27,
   "id": "f97d56f5-3d9e-4d3c-aff0-cfa854262cdd",
   "metadata": {},
   "outputs": [
    {
     "name": "stdout",
     "output_type": "stream",
     "text": [
      "                 Model  Accuracy  Precision    Recall  F1 Score   ROC AUC\n",
      "0  Logistic Regression  0.954260       0.99  0.664430  0.795181  0.986167\n",
      "1          Naive Bayes  0.955157       1.00  0.664430  0.798387  0.970855\n",
      "2                  SVM  0.980269       1.00  0.852349  0.920290  0.986938\n",
      "3        Random Forest  0.970404       1.00  0.778523  0.875472  0.987821\n"
     ]
    }
   ],
   "source": [
    "print(results)"
   ]
  },
  {
   "cell_type": "markdown",
   "id": "86d7df2b-3497-4c98-9126-c625384e9f7e",
   "metadata": {},
   "source": [
    "## Findings"
   ]
  },
  {
   "cell_type": "markdown",
   "id": "03c535a5-b24a-4b55-b5ac-abb95798604c",
   "metadata": {},
   "source": [
    "* Best Performing Model: The SVM model achieved the highest scores across most metrics, including Accuracy (0.9803), Recall (0.8523), and F1 Score (0.9203), indicating it is the most effective model for spam detection.\n",
    "* Logistic Regression: This model provided balanced performance with good precision (0.99) but lower recall (0.6644).\n",
    "\n",
    "* Naive Bayes: Excellent precision (1.00) but similar recall to Logistic Regression, resulting in a slightly lower F1 Score.\n",
    "\n",
    "* Random Forest: Strong performance with high accuracy (0.9713) and good recall (0.7852), though slightly lower than SVM."
   ]
  },
  {
   "cell_type": "markdown",
   "id": "500a0ef2-ee2f-43dc-896a-cda294ed0fb8",
   "metadata": {},
   "source": [
    "-----------------------------------------------------------------------------------------------------------------------"
   ]
  },
  {
   "cell_type": "code",
   "execution_count": null,
   "id": "2a3f01cd-2677-47e0-ab6a-8695da557fec",
   "metadata": {},
   "outputs": [],
   "source": []
  }
 ],
 "metadata": {
  "kernelspec": {
   "display_name": "Python 3 (ipykernel)",
   "language": "python",
   "name": "python3"
  },
  "language_info": {
   "codemirror_mode": {
    "name": "ipython",
    "version": 3
   },
   "file_extension": ".py",
   "mimetype": "text/x-python",
   "name": "python",
   "nbconvert_exporter": "python",
   "pygments_lexer": "ipython3",
   "version": "3.11.7"
  }
 },
 "nbformat": 4,
 "nbformat_minor": 5
}
